{
 "metadata": {
  "name": ""
 },
 "nbformat": 3,
 "nbformat_minor": 0,
 "worksheets": [
  {
   "cells": [
    {
     "cell_type": "code",
     "collapsed": false,
     "input": [
      "A = 7\n",
      "B = 1\n",
      "P = 17\n",
      "\n",
      "def mult_inv(x):\n",
      "    #Exploit special case because P is prime\n",
      "    return x**(P-2) % P\n",
      "\n",
      "class Point:\n",
      "    def __init__(self, x, y):\n",
      "        self.x = x\n",
      "        self.y = y\n",
      "    def __str__(self):\n",
      "        return \"({}, {})\".format(self.x, self.y)\n",
      "    \n",
      "def double(point):\n",
      "    lam = ((3 * point.x**2 + A) * mult_inv(2 * point.y)) % P \n",
      "    new_x = (lam**2 - 2*point.x) % P\n",
      "    new_y = (lam * (point.x - new_x) - point.y) % P\n",
      "    p = Point(new_x, new_y)\n",
      "    return p\n",
      "\n",
      "def add(p, q):\n",
      "    lam = ((q.y - p.y) * mult_inv(q.x- p.x)) % P\n",
      "    new_x = (lam**2 - p.x - q.x) % P\n",
      "    new_y = (lam * (p.x - new_x) - p.y) % P\n",
      "    p = Point(new_x, new_y)\n",
      "    return p\n",
      "\n",
      "def multiple_add(p, q, n):\n",
      "    for i in range(1, n):\n",
      "        q = add(p, q)\n",
      "    return q\n",
      "\n",
      "def power(p, n):\n",
      "    q = double(p)\n",
      "    for i in range(2, n):\n",
      "        q = add(p, q)\n",
      "    return q"
     ],
     "language": "python",
     "metadata": {},
     "outputs": [],
     "prompt_number": 105
    },
    {
     "cell_type": "code",
     "collapsed": false,
     "input": [
      "p = Point(0,1)\n",
      "\n",
      "print double(p)\n",
      "\n",
      "q = Point(5,5)\n",
      "\n",
      "print add(p, point(8,5))\n",
      "\n",
      "print power(p,3)"
     ],
     "language": "python",
     "metadata": {},
     "outputs": [
      {
       "output_type": "stream",
       "stream": "stdout",
       "text": [
        "(8, 5)\n",
        "(5, 5)\n",
        "(5, 5)\n"
       ]
      }
     ],
     "prompt_number": 106
    },
    {
     "cell_type": "code",
     "collapsed": false,
     "input": [],
     "language": "python",
     "metadata": {},
     "outputs": [],
     "prompt_number": 106
    },
    {
     "cell_type": "code",
     "collapsed": false,
     "input": [
      "#A \n",
      "g = Point(11,7)\n",
      "A_key = 5\n",
      "gA = power(g, A_key)\n",
      "\n",
      "\n"
     ],
     "language": "python",
     "metadata": {},
     "outputs": [],
     "prompt_number": 113
    },
    {
     "cell_type": "code",
     "collapsed": false,
     "input": [
      "#B \n",
      "B_key = 6\n",
      "gB = power(g, B_key)"
     ],
     "language": "python",
     "metadata": {},
     "outputs": [],
     "prompt_number": 114
    },
    {
     "cell_type": "code",
     "collapsed": false,
     "input": [
      "#A \n",
      "gAB = multiple_add(g, gB, A_key)\n",
      "print gAB\n",
      "\n",
      "#B \n",
      "gBA = multiple_add(g, gA, B_key)\n",
      "print gBA\n",
      "\n"
     ],
     "language": "python",
     "metadata": {},
     "outputs": [
      {
       "output_type": "stream",
       "stream": "stdout",
       "text": [
        "(12, 7)\n",
        "(12, 7)\n"
       ]
      }
     ],
     "prompt_number": 115
    },
    {
     "cell_type": "code",
     "collapsed": false,
     "input": [
      "encrypt(\"A little knowledge is a dangerous thing\", \"12\")\n",
      "decrypt('HkyIm1ppneZOBbm1XC2xtCnRBGHVFJvVQzOM4wr24WkLJC8xFZhS', \"12\")"
     ],
     "language": "python",
     "metadata": {},
     "outputs": [
      {
       "metadata": {},
       "output_type": "pyout",
       "prompt_number": 131,
       "text": [
        "'A little knowledge is a dangerous thing'"
       ]
      }
     ],
     "prompt_number": 131
    },
    {
     "cell_type": "code",
     "collapsed": false,
     "input": [
      "import base64\n",
      "\n",
      "def rc4crypt(data, key):\n",
      "    x = 0\n",
      "    box = range(256)\n",
      "    for i in range(256):\n",
      "        x = (x + box[i] + ord(key[i % len(key)])) % 256\n",
      "        box[i], box[x] = box[x], box[i]\n",
      "    x = 0\n",
      "    y = 0\n",
      "    out = []\n",
      "    for char in data:\n",
      "        x = (x + 1) % 256\n",
      "        y = (y + box[x]) % 256\n",
      "        box[x], box[y] = box[y], box[x]\n",
      "        out.append(chr(ord(char) ^ box[(box[x] + box[y]) % 256]))\n",
      "    \n",
      "    return ''.join(out)\n",
      "\n",
      "def encrypt(data, key):\n",
      "    return base64.b64encode(rc4crypt(data, key))\n",
      "    \n",
      "def decrypt(data, key):\n",
      "    return rc4crypt(base64.b64decode(data), key)\n"
     ],
     "language": "python",
     "metadata": {},
     "outputs": [],
     "prompt_number": 128
    },
    {
     "cell_type": "code",
     "collapsed": false,
     "input": [],
     "language": "python",
     "metadata": {},
     "outputs": []
    }
   ],
   "metadata": {}
  }
 ]
}