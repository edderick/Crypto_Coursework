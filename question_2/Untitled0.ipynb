{
 "metadata": {
  "name": ""
 },
 "nbformat": 3,
 "nbformat_minor": 0,
 "worksheets": [
  {
   "cells": [
    {
     "cell_type": "code",
     "collapsed": false,
     "input": [
      "for x in range(0, 16):\n",
      "    print (x**3 + 7*x + 1) % 17 "
     ],
     "language": "python",
     "metadata": {},
     "outputs": [
      {
       "output_type": "stream",
       "stream": "stdout",
       "text": [
        "1\n",
        "9\n",
        "6\n",
        "15\n",
        "8\n",
        "8\n",
        "4\n",
        "2\n",
        "8\n",
        "11\n",
        "0\n",
        "15\n",
        "11\n",
        "11\n",
        "4\n",
        "13\n"
       ]
      }
     ],
     "prompt_number": 2
    },
    {
     "cell_type": "code",
     "collapsed": false,
     "input": [],
     "language": "python",
     "metadata": {},
     "outputs": []
    }
   ],
   "metadata": {}
  }
 ]
}