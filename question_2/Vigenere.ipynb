{
 "metadata": {
  "name": ""
 },
 "nbformat": 3,
 "nbformat_minor": 0,
 "worksheets": [
  {
   "cells": [
    {
     "cell_type": "code",
     "collapsed": false,
     "input": [
      "s = s = \"\"\"qhc jeqpaeb srxrrp hcoe pbccktjv hyoduxrc qrmgalp hyse yqtpxcrbd ree yqtcktgln mc \n",
      "gmsepkmcktq xnb oeqbapzhcos mke mc tfb myfn alnabrlp iq qhyq ilqeeoarbd afrarirp il jijftyoy \n",
      "mo cpftgzaj fndoaqqrsztsoe ympjfcyqimks aluja bc jajfcgluqiy kxngmujxtca dsoild tfb \n",
      "mykudxcrrrgkg nooabsq thgzh mctck tyheq mlyze yyrmxd flwcsep pilze reepb hyse zbel ko \n",
      "pbpmotca hyoduxrc qrmgalp il mryztgze wbt jftrie gp kllwl xbmrt flw qrcf x tpljyk wmrlb iomh \n",
      "lghe ykd flw fxrb qo gjpjbmckt mke gk ppxcrfcc lnc bxyjpjb iq aonxnr qrmgal qhgp cyk bc rsca \n",
      "tm zokmrmjiqb tfb sczupftw lf y jeykildfsi rcxl ulrja tyogcq wfflc xvmfdgkg bbtcztgln zv \n",
      "fskcrfolxl rbsrfne xs ublj xs roohxn bbtcztgln kbcfxngpmq puae tpljyks axn zb uqbd rl eqqaziiqe a \n",
      "ffdbbn qfdc zhyknci il xn mqhcowgpe qfdc zhyknci rcpiqqalq dcpiek tffs roohxn bleq kor zhykgc \n",
      "qhc ioefc txlsb od xnw darb bsq ilptcxd aealdeq lnjv tfb pmtep mrmcijb od qwm darbs yk \n",
      "etxlsxtmo wfl iq kor xwyoe mc tfb tpljyk cyknmq arqaah tfb tpljyk dcpiek uqfne zokjol pibb \n",
      "cfxnlbl yqtyzkq qhc lwlbr mc tfb tpljyk hmtetbr axn spe ffs ikouiebde mc tfb tpljyk pmtep jobbl rl \n",
      "eqqaziiqe a ffdbbn qfdc zhyknci tfxt pblgxbjv lcxkq lur peaoer hewp tffs gp tfb ela od qhc jeqpaeb\"\"\"\n"
     ],
     "language": "python",
     "metadata": {},
     "outputs": [],
     "prompt_number": 1
    },
    {
     "cell_type": "code",
     "collapsed": false,
     "input": [
      "import string\n",
      "\n",
      "def shift(c, key):\n",
      "    n = ord(c) - ord('a')\n",
      "    k = ord(key) - ord('a')\n",
      "    return chr((n - k) % 26 + ord('a'))\n",
      "\n",
      "key = \"xay\"\n",
      "answer = \"\"\n",
      "\n",
      "n = 0\n",
      "for c in s:\n",
      "    if c in string.ascii_lowercase:\n",
      "        answer += shift(c, key[n%len(key)])\n",
      "        n += 1\n",
      "    else:\n",
      "        answer += c\n",
      "        \n",
      "print answer"
     ],
     "language": "python",
     "metadata": {},
     "outputs": [
      {
       "output_type": "stream",
       "stream": "stdout",
       "text": [
        "the message starts here recently hardware trojans have attracted the attention of \n",
        "governments and researchers one of the main concerns is that integrated circuits in military \n",
        "or critical infrastructure applications could be maliciously manipulated during the \n",
        "manufacturing process which often takes place abroad however since there have been no \n",
        "reported hardware trojans in practice yet little is known about how such a trojan would look \n",
        "like and how hard to implement one in practice one example is dopant trojan this can be used \n",
        "to compromise the security of a meaningful real world target while avoiding detection by \n",
        "functional testing as well as trojan detection mechanisms such trojans can be used to establish a \n",
        "hidden side channel in an otherwise side channel resistant design this trojan does not change \n",
        "the logic value of any gate but instead changes only the power profile of two gates an \n",
        "evaluator who is not aware of the trojan cannot attack the trojan design using common side \n",
        "channel attacks the owner of the trojan however can use his knowledge of the trojan power model to \n",
        "establish a hidden side channel that reliably leaks out secret keys this is the end of the message\n"
       ]
      }
     ],
     "prompt_number": 24
    },
    {
     "cell_type": "code",
     "collapsed": false,
     "input": [],
     "language": "python",
     "metadata": {},
     "outputs": [],
     "prompt_number": 19
    },
    {
     "cell_type": "code",
     "collapsed": false,
     "input": [],
     "language": "python",
     "metadata": {},
     "outputs": [],
     "prompt_number": 19
    },
    {
     "cell_type": "code",
     "collapsed": false,
     "input": [],
     "language": "python",
     "metadata": {},
     "outputs": [],
     "prompt_number": 19
    },
    {
     "cell_type": "code",
     "collapsed": false,
     "input": [],
     "language": "python",
     "metadata": {},
     "outputs": [],
     "prompt_number": 19
    },
    {
     "cell_type": "code",
     "collapsed": false,
     "input": [],
     "language": "python",
     "metadata": {},
     "outputs": []
    }
   ],
   "metadata": {}
  }
 ]
}