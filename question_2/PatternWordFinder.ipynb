{
 "metadata": {
  "name": ""
 },
 "nbformat": 3,
 "nbformat_minor": 0,
 "worksheets": [
  {
   "cells": [
    {
     "cell_type": "code",
     "collapsed": false,
     "input": [
      "import string "
     ],
     "language": "python",
     "metadata": {},
     "outputs": [],
     "prompt_number": 56
    },
    {
     "cell_type": "code",
     "collapsed": false,
     "input": [
      "def pattern(s):\n",
      "    seen = {}\n",
      "    out = \"\"\n",
      "    x = 'a'\n",
      "    for c in s:\n",
      "        if c in seen.keys():\n",
      "            out += seen[c]\n",
      "        else:\n",
      "            out += x\n",
      "            seen[c] = x\n",
      "            x = chr(ord(x)+1)\n",
      "    return out"
     ],
     "language": "python",
     "metadata": {},
     "outputs": [],
     "prompt_number": 57
    },
    {
     "cell_type": "code",
     "collapsed": false,
     "input": [
      "def words_match(a, b):\n",
      "    for c, d in zip(a, b):\n",
      "        if c in string.ascii_lowercase:\n",
      "            if c != d:\n",
      "                return False\n",
      "    return True"
     ],
     "language": "python",
     "metadata": {},
     "outputs": [],
     "prompt_number": 58
    },
    {
     "cell_type": "code",
     "collapsed": false,
     "input": [
      "def find_word(word, pattern_dic):\n",
      "    word_list = []\n",
      "    for i, (w, p) in enumerate(pattern_dict):\n",
      "        if p == pattern(word) and words_match(word, w):\n",
      "            word_list.append(w)\n",
      "    return word_list"
     ],
     "language": "python",
     "metadata": {},
     "outputs": [],
     "prompt_number": 64
    },
    {
     "cell_type": "code",
     "collapsed": false,
     "input": [
      "def expand_known_characters(raw, known):\n",
      "    out = raw\n",
      "    for r,k in zip(raw, known): \n",
      "      if k in string.ascii_lowercase:\n",
      "          out = string.replace(out, r, k)\n",
      "    return out"
     ],
     "language": "python",
     "metadata": {},
     "outputs": [],
     "prompt_number": 71
    },
    {
     "cell_type": "code",
     "collapsed": false,
     "input": [
      "with open(\"/Users/ejfs1g10/src/crypto_cw/question_4/en-GB.dic\") as word_list:\n",
      "    dictionary = [w.lower() for w \n",
      "                  in word_list.read().split(\"\\r\\n\") \n",
      "                  if \"'\" not in w]\n",
      "    pattern_dict = [(w, pattern(w)) for w in dictionary]"
     ],
     "language": "python",
     "metadata": {},
     "outputs": [],
     "prompt_number": 75
    },
    {
     "cell_type": "code",
     "collapsed": false,
     "input": [],
     "language": "python",
     "metadata": {},
     "outputs": [],
     "prompt_number": 72
    },
    {
     "cell_type": "code",
     "collapsed": false,
     "input": [
      "raw_sentence =   \"HQUSESTYY TBDSPKTTY YTT ERYHURBRWCVRPW RW JCBRSKJURTWESK DPSRHRTY\"\n",
      "known_sentence =   \"HQUSESTYY TBDSPKTTY YTT ERYHURBRWCVRPW RW JCBRSKJURTWESK DPSRHRTY\"\n",
      "\n",
      "sentence = expand_known_characters(raw_sentence, known_sentence)\n",
      "print \"\\\"{}\\\"\\n\".format(sentence)\n",
      "\n",
      "guesses = {}\n",
      "\n",
      "for r, w in zip(raw_sentence.split(\" \"), sentence.split(\" \")):\n",
      "    guesses[(r, w)] = find_word(w, pattern_dict)\n",
      "        \n",
      "for word in sorted(guesses.iteritems(), key=lambda x:len(x[1])):\n",
      "    print \"{}({}) -- {}\\n\".format(word[0][0], word[0][1], word[1])\n",
      "    total += len(word[1])"
     ],
     "language": "python",
     "metadata": {},
     "outputs": [
      {
       "output_type": "stream",
       "stream": "stdout",
       "text": [
        "\"HQUSESTYY TBDSPKTTY YTT ERYHURBRWCVRPW RW JCBRSKJURTWESK DPSRHRTY\"\n",
        "\n",
        "JCBRSKJURTWESK(JCBRSKJURTWESK) -- []\n"
       ]
      },
      {
       "output_type": "stream",
       "stream": "stdout",
       "text": [
        "\n",
        "ERYHURBRWCVRPW(ERYHURBRWCVRPW) -- ['discrimination']\n",
        "\n",
        "TBDSPKTTY(TBDSPKTTY) -- ['employees', 'examinees', 'landfills', 'lexically', 'liberally', 'lingually', 'literally', 'logically', 'overshoot', 'raspberry']\n",
        "\n",
        "HQUSESTYY(HQUSESTYY) -- ['blandness', 'blankness', 'blindness', 'blondness', 'bluntness', 'burntness', 'childless', 'corniness', 'faintness', 'faultless', 'frankness', 'gauntness', 'grandness', 'guiltless', 'horniness', 'phoniness', 'roundness', 'wrongness']\n",
        "\n",
        "YTT(YTT) -- ['add', 'all', 'ann', 'arr', 'ass', 'baa', 'bee', 'boo', 'brr', 'caa', 'cnn', 'coo', 'dee', 'ebb', 'egg', 'ell', 'err', 'faa', 'fcc', 'fee', 'gee', 'goo', 'hmm', 'icc', 'iee', 'ill', 'inn', 'itt', 'lee', 'lee', 'loo', 'moo', 'ncc', 'nee', 'odd', 'off', 'opp', 'orr', 'ott', 'pee', 'see', 'tdd', 'tee', 'too', 'uss', 'vii', 'wee', 'wff', 'woo', 'xii', 'zoo']\n",
        "\n",
        "RW(RW) -- ['\\xc3\\xa0', 'ac', 'ac', 'ad', 'ag', 'ah', 'ai', 'al', 'al', 'am', 'an', 'as', 'at', 'at', 'au', 'av', 'ba', 'bc', 'be', 'bf', 'bi', 'bk', 'bp', 'br', 'bx', 'by', 'ca', 'cb', 'cd', 'ck', 'cl', 'cm', 'cm', 'co', 'co', 'cs', 'cu', 'cv', 'cw', 'db', 'dc', 'de', 'dj', 'do', 'dr', 'du', 'dy', 'dz', 'ea', 'ec', 'ed', 'eh', 'el', 'em', 'en', 'er', 'es', 'et', 'eu', 'ex', 'fa', 'fi', 'fm', 'fr', 'ft', 'ga', 'gb', 'ge', 'gm', 'go', 'gp', 'gr', 'gt', 'gu', 'ha', 'he', 'hf', 'hg', 'hi', 'hi', 'ho', 'hp', 'hq', 'hz', 'ia', 'ic', 'id', 'if', 'in', 'ip', 'iq', 'is', 'it', 'iv', 'ix', 'jg', 'jo', 'ju', 'kb', 'kb', 'kc', 'kg', 'kl', 'km', 'kn', 'ks', 'ku', 'kv', 'kw', 'la', 'lb', 'le', 'lg', 'li', 'lo', 'ls', 'lt', 'lu', 'ma', 'ma', 'mb', 'md', 'me', 'mg', 'mi', 'ml', 'mn', 'mo', 'mr', 'ms', 'ms', 'mt', 'mu', 'mw', 'mw', 'my', 'na', 'nb', 'nd', 'ne', 'ni', 'nm', 'no', 'np', 'nt', 'nu', 'nz', 'od', 'oe', 'of', 'oh', 'oj', 'ok', 'om', 'on', 'op', 'or', 'os', 'ot', 'ow', 'ox', 'oz', 'pa', 'pb', 'pc', 'pc', 'pd', 'pe', 'pg', 'ph', 'pi', 'pk', 'pm', 'pm', 'po', 'po', 'pr', 'ps', 'pt', 'pu', 'pw', 'px', 'qc', 'qi', 'qr', 'qt', 'ra', 'rb', 'rd', 're', 'rf', 'rh', 'rn', 'rp', 'rt', 'ru', 'ru', 'rv', 'sa', 'sb', 'sc', 'se', 'sf', 'si', 'sm', 'sn', 'so', 'sq', 'sr', 'st', 'sw', 'ta', 'ta', 'tb', 'tc', 'te', 'th', 'ti', 'tm', 'to', 'tu', 'tv', 'ty', 'uh', 'uk', 'ul', 'um', 'un', 'up', 'ur', 'us', 'uv', 'vd', 'vf', 'vg', 'vi', 'vj', 'vp', 'vt', 'vu', 'wa', 'we', 'wi', 'wo', 'wt', 'wu', 'wv', 'wy', 'xv', 'yd', 'ye', 'yo', 'yr']\n",
        "\n",
        "DPSRHRTY(DPSRHRTY) -- ['acridity', 'actinide', 'actinium', 'activism', 'acuities', 'adherent', 'admiring', 'advising', 'aerofoil', 'agronomy', 'albinism', 'alpinist', 'ambition', 'aquiline', 'artifice', 'aspiring', 'auditing', 'audition', 'auditive', 'autonomy', 'avoiding', 'axiology', 'bagpiper', 'bagpipes', 'basement', 'bemiring', 'betiding', 'bolivian', 'bonehead', 'bonemeal', 'braiding', 'braising', 'briefest', 'broiling', 'bruising', 'buckskin', 'bulawayo', 'bulimias', 'burnings', 'candider', 'candidly', 'casement', 'cavities', 'chairing', 'choiring', 'claiming', 'codifier', 'codifies', 'coherent', 'comities', 'cruising', 'cupidity', 'cutaways', 'debility', 'debiting', 'decision', 'decorous', 'deficits', 'defiling', 'de-icing', 'delimits', 'delirium', 'demising', 'derision', 'deriving', 'desiring', 'devilish', 'devising', 'dictates', 'dictator', 'docility', 'domicile', 'dominica', 'dominick', 'earnings', 'emailing', 'ethology', 'eustatic', 'excising', 'excision', 'exciting', 'exhibits', 'expiring', 'facility', 'factotum', 'families', 'fascicle', 'felicity', 'felt-tip', 'feminist', 'fernando', 'fleabags', 'fluidise', 'fluidity', 'fluidize', 'flypaper', 'foredeck', 'forehead', 'forelegs', 'forewent', 'fruiting', 'fruition', 'fugitive', 'funereal', 'fusilier', 'gaborone', 'gasified', 'gasifier', 'getaways', 'guanines', 'gujarati', 'habiting', 'handedly', 'haycocks', 'helmsman', 'homicide', 'homilies', 'hominids', 'humidify', 'humidity', 'humility', 'hymeneal', 'ideology', 'indexers', 'instated', 'integers', 'jeroboam', 'judicial', 'kilotons', 'kiloword', 'laxities', 'leanings', 'limavady', 'liqueurs', 'logician', 'lucidity', 'lyricism', 'lyricist', 'meanings', 'meridian', 'meriting', 'mesozoic', 'mindedly', 'mobilise', 'mobility', 'mobilize', 'modifier', 'modifies', 'mornings', 'motiving', 'musician', 'mutinied', 'mutinies', 'nobility', 'notified', 'notifier', 'notifies', 'nowadays', 'nudities', 'obsidian', 'openings', 'optician', 'optimise', 'optimize', 'orbiting', 'ordnance', 'overarms', 'overdraw', 'overwrap', 'pabulums', 'pacified', 'pacifier', 'pacifies', 'pacifism', 'pacifist', 'parities', 'pavement', 'pavilion', 'peacocks', 'pedology', 'penology', 'periwigs', 'pheasant', 'plaiting', 'pleasant', 'policies', 'policing', 'politics', 'polities', 'positing', 'positive', 'praising', 'probable', 'probably', 'pugilism', 'pugilist', 'pumicing', 'punitive', 'purified', 'purifies', 'purities', 'pyridine', 'pyxidium', 'quailing', 'quietens', 'quoiting', 'radioing', 'ramified', 'ramifies', 'rapidity', 'ratified', 'ratifies', 're-adapt', 'reciting', 'refiling', 'refinish', 'relaxant', 'religion', 'reliving', 'remixing', 'remnants', 'residing', 'resizing', 'restitch', 'reviling', 'revising', 'revision', 'rheology', 'ribosome', 'runaways', 'salinity', 'sanitize', 'satirize', 'scribing', 'sedition', 'senility', 'serology', 'sexology', 'shriving', 'sidereal', 'sluicing', 'solidify', 'solidity', 'sordidly', 'splicing', 'spoiling', 'squiring', 'strabane', 'striding', 'striking', 'striping', 'striving', 'subtitle', 'subtotal', 'superego', 'survival', 'survived', 'taxonomy', 'theodora', 'theology', 'thievery', 'thriving', 'timorous', 'tomahawk', 'trailing', 'tricycle', 'turnings', 'typified', 'typifies', 'umpiring', 'unicycle', 'unstated', 'untidier', 'untidily', 'uprising', 'validity', 'valorous', 'vanities', 'vapidity', 'vaporous', 'venomous', 'vicarage', 'vigorous', 'virology', 'vomiting', 'warnings', 'wavelets', 'wideners', 'zimbabwe']\n",
        "\n"
       ]
      }
     ],
     "prompt_number": 100
    },
    {
     "cell_type": "code",
     "collapsed": false,
     "input": [
      "len(['breech', 'breeds', 'breezy', 'brooch', 'broods', 'broody', 'brooks', 'brooms', 'creeds', 'creeks', 'creels', 'creeps', 'creepy', 'crooks', 'croons', 'drools', 'droops', 'droopy', 'freely', 'freest', 'greeds', 'greedy', 'greeks', 'greens', 'greets', 'grooms', 'groove', 'groovy', 'kraals', 'preens', 'proofs', 'troops'])\n"
     ],
     "language": "python",
     "metadata": {},
     "outputs": [
      {
       "metadata": {},
       "output_type": "pyout",
       "prompt_number": 98,
       "text": [
        "32"
       ]
      }
     ],
     "prompt_number": 98
    },
    {
     "cell_type": "code",
     "collapsed": false,
     "input": [],
     "language": "python",
     "metadata": {},
     "outputs": [],
     "prompt_number": 20
    },
    {
     "cell_type": "code",
     "collapsed": false,
     "input": [],
     "language": "python",
     "metadata": {},
     "outputs": [],
     "prompt_number": 69
    },
    {
     "cell_type": "code",
     "collapsed": false,
     "input": [],
     "language": "python",
     "metadata": {},
     "outputs": [],
     "prompt_number": 12
    },
    {
     "cell_type": "code",
     "collapsed": false,
     "input": [],
     "language": "python",
     "metadata": {},
     "outputs": [
      {
       "output_type": "stream",
       "stream": "stdout",
       "text": [
        "1\n"
       ]
      }
     ],
     "prompt_number": 13
    },
    {
     "cell_type": "code",
     "collapsed": false,
     "input": [],
     "language": "python",
     "metadata": {},
     "outputs": []
    }
   ],
   "metadata": {}
  }
 ]
}