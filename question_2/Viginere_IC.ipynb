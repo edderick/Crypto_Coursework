{
 "metadata": {
  "name": ""
 },
 "nbformat": 3,
 "nbformat_minor": 0,
 "worksheets": [
  {
   "cells": [
    {
     "cell_type": "code",
     "collapsed": false,
     "input": [
      "s = \"\"\"qhc jeqpaeb srxrrp hcoe pbccktjv hyoduxrc qrmgalp hyse yqtpxcrbd ree yqtcktgln mc \n",
      "gmsepkmcktq xnb oeqbapzhcos mke mc tfb myfn alnabrlp iq qhyq ilqeeoarbd afrarirp il jijftyoy \n",
      "mo cpftgzaj fndoaqqrsztsoe ympjfcyqimks aluja bc jajfcgluqiy kxngmujxtca dsoild tfb \n",
      "mykudxcrrrgkg nooabsq thgzh mctck tyheq mlyze yyrmxd flwcsep pilze reepb hyse zbel ko \n",
      "pbpmotca hyoduxrc qrmgalp il mryztgze wbt jftrie gp kllwl xbmrt flw qrcf x tpljyk wmrlb iomh \n",
      "lghe ykd flw fxrb qo gjpjbmckt mke gk ppxcrfcc lnc bxyjpjb iq aonxnr qrmgal qhgp cyk bc rsca \n",
      "tm zokmrmjiqb tfb sczupftw lf y jeykildfsi rcxl ulrja tyogcq wfflc xvmfdgkg bbtcztgln zv \n",
      "fskcrfolxl rbsrfne xs ublj xs roohxn bbtcztgln kbcfxngpmq puae tpljyks axn zb uqbd rl eqqaziiqe a \n",
      "ffdbbn qfdc zhyknci il xn mqhcowgpe qfdc zhyknci rcpiqqalq dcpiek tffs roohxn bleq kor zhykgc \n",
      "qhc ioefc txlsb od xnw darb bsq ilptcxd aealdeq lnjv tfb pmtep mrmcijb od qwm darbs yk \n",
      "etxlsxtmo wfl iq kor xwyoe mc tfb tpljyk cyknmq arqaah tfb tpljyk dcpiek uqfne zokjol pibb \n",
      "cfxnlbl yqtyzkq qhc lwlbr mc tfb tpljyk hmtetbr axn spe ffs ikouiebde mc tfb tpljyk pmtep jobbl rl \n",
      "eqqaziiqe a ffdbbn qfdc zhyknci tfxt pblgxbjv lcxkq lur peaoer hewp tffs gp tfb ela od qhc jeqpaeb\"\"\"\n"
     ],
     "language": "python",
     "metadata": {},
     "outputs": [],
     "prompt_number": 43
    },
    {
     "cell_type": "code",
     "collapsed": false,
     "input": [
      "from __future__ import division\n",
      "import string\n",
      "\n",
      "s = [c for c in s if c.upper() in string.ascii_uppercase]\n",
      "\n",
      "freq = {}\n",
      "start = 2\n",
      "stride = 3\n",
      "\n",
      "for c in string.ascii_uppercase:\n",
      "    freq[c.upper()] = 0\n",
      "\n",
      "for c in s[start:-(start+1):stride]:\n",
      "    if c.upper() in string.ascii_uppercase:\n",
      "        freq[c.upper()] += 1\n",
      "       \n",
      "print freq\n",
      "        \n",
      "N = sum([n for n in freq.values()])\n",
      "c = len(string.ascii_uppercase)\n",
      "\n",
      "numerator = sum([(n * (n-1)) for n in freq.values()]) \n",
      "denominator = ((N * (N-1))/c)\n",
      "\n",
      "IC = numerator / denominator \n",
      "\n",
      "print IC"
     ],
     "language": "python",
     "metadata": {},
     "outputs": [
      {
       "output_type": "stream",
       "stream": "stdout",
       "text": [
        "{'A': 12, 'C': 40, 'B': 11, 'E': 7, 'D': 5, 'G': 19, 'F': 24, 'I': 1, 'H': 2, 'K': 4, 'J': 15, 'M': 30, 'L': 22, 'O': 0, 'N': 2, 'Q': 28, 'P': 19, 'S': 9, 'R': 25, 'U': 5, 'T': 3, 'W': 4, 'V': 0, 'Y': 37, 'X': 0, 'Z': 5}\n",
        "1.80124545926\n"
       ]
      }
     ],
     "prompt_number": 46
    },
    {
     "cell_type": "code",
     "collapsed": false,
     "input": [],
     "language": "python",
     "metadata": {},
     "outputs": [],
     "prompt_number": 44
    },
    {
     "cell_type": "code",
     "collapsed": false,
     "input": [],
     "language": "python",
     "metadata": {},
     "outputs": [],
     "prompt_number": 3
    },
    {
     "cell_type": "code",
     "collapsed": false,
     "input": [],
     "language": "python",
     "metadata": {},
     "outputs": [],
     "prompt_number": 3
    },
    {
     "cell_type": "code",
     "collapsed": false,
     "input": [],
     "language": "python",
     "metadata": {},
     "outputs": [],
     "prompt_number": 3
    },
    {
     "cell_type": "code",
     "collapsed": false,
     "input": [],
     "language": "python",
     "metadata": {},
     "outputs": []
    }
   ],
   "metadata": {}
  }
 ]
}