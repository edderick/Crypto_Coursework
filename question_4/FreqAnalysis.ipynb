{
 "metadata": {
  "name": ""
 },
 "nbformat": 3,
 "nbformat_minor": 0,
 "worksheets": [
  {
   "cells": [
    {
     "cell_type": "code",
     "collapsed": false,
     "input": [
      "import string \n",
      "\n",
      "s = \"\"\"YNTS QHABT YBK KJVT NR ORLSJN HCTCYA HQYKJV CYOCMBYNT\"\"\"\n",
      "\n",
      "freq = {}\n",
      "\n",
      "for c in string.ascii_uppercase:\n",
      "    freq[c] = 0\n",
      "\n",
      "for c in s[0:-1:3]:\n",
      "    if c != ' ' and c != '\\n':\n",
      "        freq[c] += 1\n",
      "        \n",
      "print freq"
     ],
     "language": "python",
     "metadata": {},
     "outputs": [
      {
       "output_type": "stream",
       "stream": "stdout",
       "text": [
        "{'A': 0, 'C': 1, 'B': 1, 'E': 0, 'D': 0, 'G': 0, 'F': 0, 'I': 0, 'H': 2, 'K': 1, 'J': 1, 'M': 1, 'L': 0, 'O': 0, 'N': 1, 'Q': 0, 'P': 0, 'S': 1, 'R': 2, 'U': 0, 'T': 2, 'W': 0, 'V': 1, 'Y': 3, 'X': 0, 'Z': 0}\n"
       ]
      }
     ],
     "prompt_number": 43
    },
    {
     "cell_type": "code",
     "collapsed": false,
     "input": [
      "sorted(freq, key=freq.get)[::-1]"
     ],
     "language": "python",
     "metadata": {},
     "outputs": [
      {
       "metadata": {},
       "output_type": "pyout",
       "prompt_number": 52,
       "text": [
        "['Y',\n",
        " 'T',\n",
        " 'R',\n",
        " 'H',\n",
        " 'V',\n",
        " 'S',\n",
        " 'N',\n",
        " 'M',\n",
        " 'J',\n",
        " 'K',\n",
        " 'B',\n",
        " 'C',\n",
        " 'Z',\n",
        " 'X',\n",
        " 'W',\n",
        " 'U',\n",
        " 'P',\n",
        " 'Q',\n",
        " 'O',\n",
        " 'L',\n",
        " 'I',\n",
        " 'F',\n",
        " 'G',\n",
        " 'D',\n",
        " 'E',\n",
        " 'A']"
       ]
      }
     ],
     "prompt_number": 52
    },
    {
     "cell_type": "code",
     "collapsed": false,
     "input": [
      "import string \n",
      "import itertools\n",
      "\n",
      "s = \"YNTS QHABT YBK KJVT NR ORLSJN HCTCYA HQYKJV CYOCMBYNT\"\n",
      "\n",
      "freq = {}\n",
      "\n",
      "for c, d in itertools.product(string.ascii_uppercase, string.ascii_uppercase):\n",
      "    freq[c + d] = 0\n",
      "\n",
      "for c, s in zip(s[0:-2], s[1:-1]):\n",
      "    if c == ' ' or s == ' ':\n",
      "        continue\n",
      "    freq[c+s] += 1\n",
      "   \n",
      "for k in freq.keys():\n",
      "        if freq[k] != 0:\n",
      "            print \"{} {}\".format(k, freq[k])\n"
     ],
     "language": "python",
     "metadata": {},
     "outputs": [
      {
       "ename": "ValueError",
       "evalue": "too many values to unpack",
       "output_type": "pyerr",
       "traceback": [
        "\u001b[0;31m---------------------------------------------------------------------------\u001b[0m\n\u001b[0;31mValueError\u001b[0m                                Traceback (most recent call last)",
        "\u001b[0;32m<ipython-input-53-b97978f66e7b>\u001b[0m in \u001b[0;36m<module>\u001b[0;34m()\u001b[0m\n\u001b[1;32m      6\u001b[0m \u001b[0mfreq\u001b[0m \u001b[0;34m=\u001b[0m \u001b[0;34m{\u001b[0m\u001b[0;34m}\u001b[0m\u001b[0;34m\u001b[0m\u001b[0m\n\u001b[1;32m      7\u001b[0m \u001b[0;34m\u001b[0m\u001b[0m\n\u001b[0;32m----> 8\u001b[0;31m \u001b[0;32mfor\u001b[0m \u001b[0mc\u001b[0m\u001b[0;34m,\u001b[0m \u001b[0md\u001b[0m \u001b[0;32min\u001b[0m \u001b[0mitertools\u001b[0m\u001b[0;34m.\u001b[0m\u001b[0mproduct\u001b[0m\u001b[0;34m(\u001b[0m\u001b[0mstring\u001b[0m\u001b[0;34m.\u001b[0m\u001b[0mascii_uppercase\u001b[0m\u001b[0;34m,\u001b[0m \u001b[0mstring\u001b[0m\u001b[0;34m.\u001b[0m\u001b[0mascii_uppercase\u001b[0m\u001b[0;34m,\u001b[0m \u001b[0mstring\u001b[0m\u001b[0;34m.\u001b[0m\u001b[0mascii_uppercase\u001b[0m\u001b[0;34m)\u001b[0m\u001b[0;34m:\u001b[0m\u001b[0;34m\u001b[0m\u001b[0m\n\u001b[0m\u001b[1;32m      9\u001b[0m     \u001b[0mfreq\u001b[0m\u001b[0;34m[\u001b[0m\u001b[0mc\u001b[0m \u001b[0;34m+\u001b[0m \u001b[0md\u001b[0m\u001b[0;34m]\u001b[0m \u001b[0;34m=\u001b[0m \u001b[0;36m0\u001b[0m\u001b[0;34m\u001b[0m\u001b[0m\n\u001b[1;32m     10\u001b[0m \u001b[0;34m\u001b[0m\u001b[0m\n",
        "\u001b[0;31mValueError\u001b[0m: too many values to unpack"
       ]
      }
     ],
     "prompt_number": 53
    },
    {
     "cell_type": "code",
     "collapsed": false,
     "input": [
      "import string \n",
      "import itertools\n",
      "\n",
      "s = \"YNTS QHABT YBK KJVT NR ORLSJN HCTCYA HQYKJV CYOCMBYNT\"\n",
      "\n",
      "freq = {}\n",
      "\n",
      "for c, (d, e) in itertools.product(string.ascii_uppercase, itertools.product(string.ascii_uppercase, string.ascii_uppercase)):\n",
      "    freq[c + d + e] = 0\n",
      "\n",
      "for c, s, t in zip(s[0:-3], s[1:-2], s[2:-1]):\n",
      "    if c == ' ' or s == ' ' or t == ' ':\n",
      "        continue\n",
      "    freq[c+s+t] += 1\n",
      "   \n",
      "for k in freq.keys():\n",
      "        if freq[k] != 0:\n",
      "            print \"{} {}\".format(k, freq[k])\n"
     ],
     "language": "python",
     "metadata": {},
     "outputs": [
      {
       "output_type": "stream",
       "stream": "stdout",
       "text": [
        "RLS 1\n",
        "YKJ 1\n",
        "SJN 1\n",
        "LSJ 1\n",
        "CTC 1\n",
        "ORL 1\n",
        "HQY 1\n",
        "CMB 1\n",
        "YNT 1\n",
        "QYK 1\n",
        "BYN 1\n",
        "YBK 1\n",
        "CYA 1\n",
        "CYO 1\n",
        "QHA 1\n",
        "HAB 1\n",
        "HCT 1\n",
        "TCY 1\n",
        "KJV 2\n",
        "NTS 1\n",
        "ABT 1\n",
        "OCM 1\n",
        "JVT 1\n",
        "YOC 1\n",
        "MBY 1\n"
       ]
      }
     ],
     "prompt_number": 56
    },
    {
     "cell_type": "code",
     "collapsed": false,
     "input": [
      "len(\"JamiSKJriendSK\")"
     ],
     "language": "python",
     "metadata": {},
     "outputs": [
      {
       "metadata": {},
       "output_type": "pyout",
       "prompt_number": 58,
       "text": [
        "14"
       ]
      }
     ],
     "prompt_number": 58
    },
    {
     "cell_type": "code",
     "collapsed": false,
     "input": [],
     "language": "python",
     "metadata": {},
     "outputs": []
    }
   ],
   "metadata": {}
  }
 ]
}